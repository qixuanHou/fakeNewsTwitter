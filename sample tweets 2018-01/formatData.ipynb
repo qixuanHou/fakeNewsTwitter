{
 "cells": [
  {
   "cell_type": "code",
   "execution_count": 90,
   "metadata": {},
   "outputs": [],
   "source": [
    "# fake news clean up\n",
    "import pandas as pd"
   ]
  },
  {
   "cell_type": "code",
   "execution_count": 91,
   "metadata": {},
   "outputs": [],
   "source": [
    "tweets = pd.read_csv(\"201801.csv\")\n",
    "tweets = tweets.drop(['id'], axis=1)"
   ]
  },
  {
   "cell_type": "code",
   "execution_count": 92,
   "metadata": {},
   "outputs": [],
   "source": [
    "keywordsDF = pd.read_csv(\"ForSureFakeNews.csv\")\n",
    "keywordsDF['keyword'] = keywordsDF['keyword'].apply(lambda x: x.lower())\n",
    "keywords = list(keywordsDF[\"keyword\"])\n",
    "keywordsDF[\"count\"] = \"\""
   ]
  },
  {
   "cell_type": "code",
   "execution_count": 93,
   "metadata": {},
   "outputs": [],
   "source": [
    "# Export non duplicates tweets\n",
    "non_duplicate_tweets = tweets.drop_duplicates(\"text\")\n",
    "non_duplicate_tweets.to_csv(\"non_duplicates.csv\")"
   ]
  },
  {
   "cell_type": "code",
   "execution_count": 94,
   "metadata": {},
   "outputs": [],
   "source": [
    "tweets = tweets.fillna(\"\") \n",
    "tweets['text'] = tweets['text'].apply(lambda x: x.lower())\n",
    "tweets[\"keyword\"] = \"\"\n",
    "for key in keywords:\n",
    "    tweets.loc[tweets['text'].str.contains(key), 'keyword'] = key\n",
    "    keywordsDF.loc[keywordsDF[\"keyword\"] == key, \"count\"] = len(tweets[tweets['text'].str.contains(key)])"
   ]
  },
  {
   "cell_type": "code",
   "execution_count": 95,
   "metadata": {},
   "outputs": [],
   "source": [
    "keywordsDF.to_csv(\"summary_201801.csv\")"
   ]
  },
  {
   "cell_type": "code",
   "execution_count": 107,
   "metadata": {},
   "outputs": [],
   "source": [
    "tweets[tweets[\"keyword\"] != \"\"].to_csv(\"keyword_tweets.csv\")"
   ]
  },
  {
   "cell_type": "code",
   "execution_count": 97,
   "metadata": {},
   "outputs": [
    {
     "data": {
      "text/plain": [
       "491905"
      ]
     },
     "execution_count": 97,
     "metadata": {},
     "output_type": "execute_result"
    }
   ],
   "source": [
    "len(tweets)"
   ]
  },
  {
   "cell_type": "code",
   "execution_count": null,
   "metadata": {},
   "outputs": [],
   "source": []
  }
 ],
 "metadata": {
  "kernelspec": {
   "display_name": "Python 3",
   "language": "python",
   "name": "python3"
  },
  "language_info": {
   "codemirror_mode": {
    "name": "ipython",
    "version": 3
   },
   "file_extension": ".py",
   "mimetype": "text/x-python",
   "name": "python",
   "nbconvert_exporter": "python",
   "pygments_lexer": "ipython3",
   "version": "3.7.0"
  }
 },
 "nbformat": 4,
 "nbformat_minor": 2
}
